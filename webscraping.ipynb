{
 "cells": [
  {
   "cell_type": "markdown",
   "metadata": {},
   "source": [
    "## Web Scraping"
   ]
  },
  {
   "cell_type": "code",
   "execution_count": null,
   "metadata": {},
   "outputs": [],
   "source": [
    "from bs4 import BeautifulSoup as BS # Retrieve data out of HTML and XML files in a tree format \n",
    "import pandas as pd # Data analysis and manipulation\n",
    "import requests # Requests data from webpage using http protocol\n",
    "import re # Regular expressions lib "
   ]
  },
  {
   "cell_type": "code",
   "execution_count": null,
   "metadata": {},
   "outputs": [],
   "source": [
    "page = requests.get('https://www.fundamentus.com.br/ultimos-resultados.php')\n",
    "print(page.status_code)\n",
    "\n",
    "# Se der 403, verificar autorizações que estão no cabeçado de solicitação. Como:\n",
    "# Inpecionar -> Network -> refresh page -> últimos resultados -> header\n",
    "# Botão direito no \"últimos resultados\" -> copy -> copy as curl\n",
    "# Procura no google um site que converte curl to python (https://curlconverter.com/)\n",
    "# Faz a conversão e cola os dados do header no código"
   ]
  },
  {
   "cell_type": "code",
   "execution_count": null,
   "metadata": {},
   "outputs": [],
   "source": [
    "headers = {\n",
    "    'authority': 'www.fundamentus.com.br',\n",
    "    'cache-control': 'max-age=0',\n",
    "    'sec-ch-ua': '\" Not;A Brand\";v=\"99\", \"Google Chrome\";v=\"97\", \"Chromium\";v=\"97\"',\n",
    "    'sec-ch-ua-mobile': '?0',\n",
    "    'sec-ch-ua-platform': '\"macOS\"',\n",
    "    'upgrade-insecure-requests': '1',\n",
    "    'user-agent': 'Mozilla/5.0 (Macintosh; Intel Mac OS X 10_15_7) AppleWebKit/537.36 (KHTML, like Gecko) Chrome/97.0.4692.99 Safari/537.36',\n",
    "    'accept': 'text/html,application/xhtml+xml,application/xml;q=0.9,image/avif,image/webp,image/apng,*/*;q=0.8,application/signed-exchange;v=b3;q=0.9',\n",
    "    'sec-fetch-site': 'same-origin',\n",
    "    'sec-fetch-mode': 'navigate',\n",
    "    'sec-fetch-user': '?1',\n",
    "    'sec-fetch-dest': 'document',\n",
    "    'referer': 'https://www.fundamentus.com.br/',\n",
    "    'accept-language': 'pt-BR,pt;q=0.9,en-US;q=0.8,en;q=0.7',\n",
    "    'cookie': 'PHPSESSID=b35b6f7e4375de4017926983c7b3c3b9; __utma=138951332.603349871.1645791453.1645791453.1645791453.1; __utmc=138951332; __utmz=138951332.1645791453.1.1.utmcsr=google|utmccn=(organic)|utmcmd=organic|utmctr=(not%20provided); __utmt=1; _fbp=fb.2.1645791452965.1662452217; __gads=ID=da6343ddcbcb1019-22825324cb7b007f:T=1645791453:RT=1645791453:S=ALNI_MbwgrZR2JVeAIbqnFdd3Cdxwtha3A; __cf_bm=B_MY59FPh103xQNjwUMyd1dMabrsX2r4AsOmg7wCmi8-1645791455-0-AXVuJvcPFqziuSDjQT1PxlmxuVZylJtEHL7/tQYbfC1YyjV3HQd1MlWDgIxOZ928IQckWjnXzh5frVauVz8rqkrshCPLKdLbivXDplu6uZDiehJ9IsasC84fkO4LX4rZRQ==; __utmb=138951332.2.10.1645791453',\n",
    "} \n",
    "page = requests.get('https://www.fundamentus.com.br/ultimos-resultados.php', headers=headers)"
   ]
  },
  {
   "cell_type": "code",
   "execution_count": null,
   "metadata": {},
   "outputs": [],
   "source": [
    "page.status_code"
   ]
  },
  {
   "cell_type": "code",
   "execution_count": null,
   "metadata": {},
   "outputs": [],
   "source": [
    "# Get page content in a better format:\n",
    "source_page = BS(page.content, 'html.parser')"
   ]
  },
  {
   "cell_type": "code",
   "execution_count": null,
   "metadata": {},
   "outputs": [],
   "source": [
    "# Filter by tag using regex, [:-1] eliminates the last value\n",
    "links = source_page.find_all('a', attrs={'href':re.compile('detalhes.php')})[:-1]"
   ]
  },
  {
   "cell_type": "code",
   "execution_count": null,
   "metadata": {},
   "outputs": [],
   "source": [
    "# Retorna o primeiro elemento\n",
    "# print(links[0])\n",
    "\n",
    "# Retorna o texto dentro de <a> TEXTO <\\a>\n",
    "# print(links[0].text) \n",
    "\n",
    "# Retorna o link desejado em formato json\n",
    "# print(links[0].attrs['href'])"
   ]
  },
  {
   "cell_type": "code",
   "execution_count": null,
   "metadata": {},
   "outputs": [],
   "source": [
    "# Para pegar todos os links desejados e salvar em json, usar a função anônima lambda (funciona como um for)\n",
    "links = list(map(lambda x:x.attrs['href'], links))\n",
    "# links"
   ]
  },
  {
   "cell_type": "code",
   "execution_count": null,
   "metadata": {},
   "outputs": [],
   "source": [
    "# interar cada link na variável\n",
    "def details(link):\n",
    "\t# print(f'O código está pegando o link: {link}')\n",
    "\theaders = {\n",
    "\t\t'authority': 'www.fundamentus.com.br',\n",
    "\t\t'cache-control': 'max-age=0',\n",
    "\t\t'sec-ch-ua': '\" Not;A Brand\";v=\"99\", \"Google Chrome\";v=\"97\", \"Chromium\";v=\"97\"',\n",
    "\t\t'sec-ch-ua-mobile': '?0',\n",
    "\t\t'sec-ch-ua-platform': '\"macOS\"',\n",
    "\t\t'upgrade-insecure-requests': '1',\n",
    "\t\t'user-agent': 'Mozilla/5.0 (Macintosh; Intel Mac OS X 10_15_7) AppleWebKit/537.36 (KHTML, like Gecko) Chrome/97.0.4692.99 Safari/537.36',\n",
    "\t\t'accept': 'text/html,application/xhtml+xml,application/xml;q=0.9,image/avif,image/webp,image/apng,*/*;q=0.8,application/signed-exchange;v=b3;q=0.9',\n",
    "\t\t'sec-fetch-site': 'same-origin',\n",
    "\t\t'sec-fetch-mode': 'navigate',\n",
    "\t\t'sec-fetch-user': '?1',\n",
    "\t\t'sec-fetch-dest': 'document',\n",
    "\t\t'referer': 'https://www.fundamentus.com.br/',\n",
    "\t\t'accept-language': 'pt-BR,pt;q=0.9,en-US;q=0.8,en;q=0.7',\n",
    "\t\t'cookie': 'PHPSESSID=b35b6f7e4375de4017926983c7b3c3b9; __utma=138951332.603349871.1645791453.1645791453.1645791453.1; __utmc=138951332; __utmz=138951332.1645791453.1.1.utmcsr=google|utmccn=(organic)|utmcmd=organic|utmctr=(not%20provided); __utmt=1; _fbp=fb.2.1645791452965.1662452217; __gads=ID=da6343ddcbcb1019-22825324cb7b007f:T=1645791453:RT=1645791453:S=ALNI_MbwgrZR2JVeAIbqnFdd3Cdxwtha3A; __cf_bm=B_MY59FPh103xQNjwUMyd1dMabrsX2r4AsOmg7wCmi8-1645791455-0-AXVuJvcPFqziuSDjQT1PxlmxuVZylJtEHL7/tQYbfC1YyjV3HQd1MlWDgIxOZ928IQckWjnXzh5frVauVz8rqkrshCPLKdLbivXDplu6uZDiehJ9IsasC84fkO4LX4rZRQ==; __utmb=138951332.2.10.1645791453',\n",
    "\t}\n",
    "\tpage_data = requests.get('https://www.fundamentus.com.br/{}'.format(link), headers=headers)\n",
    "\tsource_page_data = BS(page_data.content, 'html.parser')\n",
    "\t# Pega somente as tabelas\n",
    "\ttables = source_page_data.find_all('table')\n",
    "\ttables_data = {}\n",
    "\tfor i in range(0,len(tables)):\n",
    "\t\tlabel = tables[i].find_all('td', attrs={'class':'label'})\n",
    "\t\tdata = tables[i].find_all('td', attrs={'class':'data'})\n",
    "\t\ttables_data.update(dict(zip(list(map(lambda x:x.text.replace('?', ''), label)), list(map(lambda x:x.text.replace('\\n', ''), data)))))\n",
    "\treturn tables_data"
   ]
  },
  {
   "cell_type": "code",
   "execution_count": null,
   "metadata": {},
   "outputs": [],
   "source": [
    "data_acoes = []\n",
    "for i in links:\n",
    "\tdata_acoes.append(details(i))\n",
    "len(data_acoes)"
   ]
  },
  {
   "cell_type": "code",
   "execution_count": null,
   "metadata": {},
   "outputs": [],
   "source": [
    "data_acoes"
   ]
  },
  {
   "cell_type": "markdown",
   "metadata": {},
   "source": [
    "## Data Analysis"
   ]
  },
  {
   "cell_type": "code",
   "execution_count": null,
   "metadata": {},
   "outputs": [],
   "source": [
    "import plotly.express as px"
   ]
  },
  {
   "cell_type": "code",
   "execution_count": null,
   "metadata": {},
   "outputs": [],
   "source": [
    "df = pd.DataFrame(data_acoes)\n",
    "df.head()"
   ]
  },
  {
   "cell_type": "code",
   "execution_count": null,
   "metadata": {},
   "outputs": [],
   "source": [
    "df.columns"
   ]
  },
  {
   "cell_type": "code",
   "execution_count": null,
   "metadata": {},
   "outputs": [],
   "source": [
    "df.info()"
   ]
  },
  {
   "cell_type": "code",
   "execution_count": null,
   "metadata": {},
   "outputs": [],
   "source": [
    "# Muda o dtype para int e float para que possamos trabalhar com essas colunas, é preciso fazer o mesmo para as demais colunas\n",
    "df['Lucro Líquido'] = df['Lucro Líquido'].str.replace('\\.','',regex=True).astype('int64')\n",
    "df['Cotação']       = df['Cotação'].str.replace(',','.',regex=True).astype('float')"
   ]
  },
  {
   "cell_type": "code",
   "execution_count": null,
   "metadata": {},
   "outputs": [],
   "source": [
    "df.info()"
   ]
  },
  {
   "cell_type": "code",
   "execution_count": null,
   "metadata": {},
   "outputs": [],
   "source": [
    "# Verifica tipos de ações que existem na bolsa e conta as ocorrências delas nos dados\n",
    "df.Tipo.value_counts()"
   ]
  },
  {
   "cell_type": "code",
   "execution_count": null,
   "metadata": {},
   "outputs": [],
   "source": [
    "# Gráfico dos tipos de ações e suas frequências\n",
    "fig = px.bar(df.Tipo.value_counts(), title=\"Tipo de ação\")\n",
    "fig.update_xaxes(title_text='Tipo')\n",
    "fig.update_yaxes(title_text='Quantidade')\n",
    "fig.show()"
   ]
  },
  {
   "cell_type": "code",
   "execution_count": null,
   "metadata": {},
   "outputs": [],
   "source": []
  }
 ],
 "metadata": {
  "interpreter": {
   "hash": "2940d9d13438e0beaf6b47c39293b47712b84d65f7537e36f2244e35c7747aed"
  },
  "kernelspec": {
   "display_name": "Python 3.10.2 ('venv': venv)",
   "language": "python",
   "name": "python3"
  },
  "language_info": {
   "codemirror_mode": {
    "name": "ipython",
    "version": 3
   },
   "file_extension": ".py",
   "mimetype": "text/x-python",
   "name": "python",
   "nbconvert_exporter": "python",
   "pygments_lexer": "ipython3",
   "version": "3.10.2"
  },
  "orig_nbformat": 4
 },
 "nbformat": 4,
 "nbformat_minor": 2
}
