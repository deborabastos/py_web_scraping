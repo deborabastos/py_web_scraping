{
 "cells": [
  {
   "cell_type": "code",
   "execution_count": 1,
   "metadata": {},
   "outputs": [],
   "source": [
    "from bs4 import BeautifulSoup as BS\n",
    "import pandas as pd\n",
    "import requests\n",
    "import re"
   ]
  },
  {
   "cell_type": "code",
   "execution_count": 2,
   "metadata": {},
   "outputs": [],
   "source": [
    "###############################˜#################################\n",
    "########################## WEBSCRAPING #########################\n",
    "################################################################\n",
    "\n",
    "# page = requests.get('https://www.fundamentus.com.br/ultimos-resultados.php')\n",
    "# print(page.status_code)\n",
    "\n",
    "# Se der 403, verificar autorizações que estão no cabeçado de solicitação. Como:\n",
    "# Inpecionar -> Network -> refresh page -> últimos resultados -> header\n",
    "# Botão direito no \"últimos resultados\" -> copy -> copy as curl\n",
    "# Procura no google um site que converte curl to python (https://curlconverter.com/)\n",
    "# Faz a conversão e cola os dados do header no código"
   ]
  },
  {
   "cell_type": "code",
   "execution_count": 3,
   "metadata": {},
   "outputs": [],
   "source": [
    "headers = {\n",
    "    'authority': 'www.fundamentus.com.br',\n",
    "    'cache-control': 'max-age=0',\n",
    "    'sec-ch-ua': '\" Not;A Brand\";v=\"99\", \"Google Chrome\";v=\"97\", \"Chromium\";v=\"97\"',\n",
    "    'sec-ch-ua-mobile': '?0',\n",
    "    'sec-ch-ua-platform': '\"macOS\"',\n",
    "    'upgrade-insecure-requests': '1',\n",
    "    'user-agent': 'Mozilla/5.0 (Macintosh; Intel Mac OS X 10_15_7) AppleWebKit/537.36 (KHTML, like Gecko) Chrome/97.0.4692.99 Safari/537.36',\n",
    "    'accept': 'text/html,application/xhtml+xml,application/xml;q=0.9,image/avif,image/webp,image/apng,*/*;q=0.8,application/signed-exchange;v=b3;q=0.9',\n",
    "    'sec-fetch-site': 'same-origin',\n",
    "    'sec-fetch-mode': 'navigate',\n",
    "    'sec-fetch-user': '?1',\n",
    "    'sec-fetch-dest': 'document',\n",
    "    'referer': 'https://www.fundamentus.com.br/',\n",
    "    'accept-language': 'pt-BR,pt;q=0.9,en-US;q=0.8,en;q=0.7',\n",
    "    'cookie': 'PHPSESSID=b35b6f7e4375de4017926983c7b3c3b9; __utma=138951332.603349871.1645791453.1645791453.1645791453.1; __utmc=138951332; __utmz=138951332.1645791453.1.1.utmcsr=google|utmccn=(organic)|utmcmd=organic|utmctr=(not%20provided); __utmt=1; _fbp=fb.2.1645791452965.1662452217; __gads=ID=da6343ddcbcb1019-22825324cb7b007f:T=1645791453:RT=1645791453:S=ALNI_MbwgrZR2JVeAIbqnFdd3Cdxwtha3A; __cf_bm=B_MY59FPh103xQNjwUMyd1dMabrsX2r4AsOmg7wCmi8-1645791455-0-AXVuJvcPFqziuSDjQT1PxlmxuVZylJtEHL7/tQYbfC1YyjV3HQd1MlWDgIxOZ928IQckWjnXzh5frVauVz8rqkrshCPLKdLbivXDplu6uZDiehJ9IsasC84fkO4LX4rZRQ==; __utmb=138951332.2.10.1645791453',\n",
    "} \n",
    "page = requests.get('https://www.fundamentus.com.br/ultimos-resultados.php', headers=headers)"
   ]
  },
  {
   "cell_type": "code",
   "execution_count": 4,
   "metadata": {},
   "outputs": [
    {
     "data": {
      "text/plain": [
       "200"
      ]
     },
     "execution_count": 4,
     "metadata": {},
     "output_type": "execute_result"
    }
   ],
   "source": [
    "page.status_code"
   ]
  },
  {
   "cell_type": "code",
   "execution_count": 5,
   "metadata": {},
   "outputs": [],
   "source": [
    "# Get page content in a better format:\n",
    "source_page = BS(page.content, 'html.parser')"
   ]
  },
  {
   "cell_type": "code",
   "execution_count": 6,
   "metadata": {},
   "outputs": [],
   "source": [
    "# Filter by tag using regex, [:-1] eliminates the last value\n",
    "links = source_page.find_all('a', attrs={'href':re.compile('detalhes.php')})[:-1]"
   ]
  },
  {
   "cell_type": "code",
   "execution_count": 7,
   "metadata": {},
   "outputs": [],
   "source": [
    "# Retorna o primeiro elemento\n",
    "# print(links[0])\n",
    "\n",
    "# Retorna o texto dentro de <a> TEXTO <\\a>\n",
    "# print(links[0].text) \n",
    "\n",
    "# Retorna o link desejado em formato json\n",
    "# print(links[0].attrs['href'])"
   ]
  },
  {
   "cell_type": "code",
   "execution_count": 8,
   "metadata": {},
   "outputs": [],
   "source": [
    "# Para pegar todos os links desejados e salvar em json, usar a função anônima lambda (funciona como um for)\n",
    "links = list(map(lambda x:x.attrs['href'], links))\n",
    "# links"
   ]
  },
  {
   "cell_type": "code",
   "execution_count": 9,
   "metadata": {},
   "outputs": [],
   "source": [
    "# interar cada link na variável\n",
    "def details(link):\n",
    "\t# print(f'O código está pegando o link: {link}')\n",
    "\theaders = {\n",
    "\t\t'authority': 'www.fundamentus.com.br',\n",
    "\t\t'cache-control': 'max-age=0',\n",
    "\t\t'sec-ch-ua': '\" Not;A Brand\";v=\"99\", \"Google Chrome\";v=\"97\", \"Chromium\";v=\"97\"',\n",
    "\t\t'sec-ch-ua-mobile': '?0',\n",
    "\t\t'sec-ch-ua-platform': '\"macOS\"',\n",
    "\t\t'upgrade-insecure-requests': '1',\n",
    "\t\t'user-agent': 'Mozilla/5.0 (Macintosh; Intel Mac OS X 10_15_7) AppleWebKit/537.36 (KHTML, like Gecko) Chrome/97.0.4692.99 Safari/537.36',\n",
    "\t\t'accept': 'text/html,application/xhtml+xml,application/xml;q=0.9,image/avif,image/webp,image/apng,*/*;q=0.8,application/signed-exchange;v=b3;q=0.9',\n",
    "\t\t'sec-fetch-site': 'same-origin',\n",
    "\t\t'sec-fetch-mode': 'navigate',\n",
    "\t\t'sec-fetch-user': '?1',\n",
    "\t\t'sec-fetch-dest': 'document',\n",
    "\t\t'referer': 'https://www.fundamentus.com.br/',\n",
    "\t\t'accept-language': 'pt-BR,pt;q=0.9,en-US;q=0.8,en;q=0.7',\n",
    "\t\t'cookie': 'PHPSESSID=b35b6f7e4375de4017926983c7b3c3b9; __utma=138951332.603349871.1645791453.1645791453.1645791453.1; __utmc=138951332; __utmz=138951332.1645791453.1.1.utmcsr=google|utmccn=(organic)|utmcmd=organic|utmctr=(not%20provided); __utmt=1; _fbp=fb.2.1645791452965.1662452217; __gads=ID=da6343ddcbcb1019-22825324cb7b007f:T=1645791453:RT=1645791453:S=ALNI_MbwgrZR2JVeAIbqnFdd3Cdxwtha3A; __cf_bm=B_MY59FPh103xQNjwUMyd1dMabrsX2r4AsOmg7wCmi8-1645791455-0-AXVuJvcPFqziuSDjQT1PxlmxuVZylJtEHL7/tQYbfC1YyjV3HQd1MlWDgIxOZ928IQckWjnXzh5frVauVz8rqkrshCPLKdLbivXDplu6uZDiehJ9IsasC84fkO4LX4rZRQ==; __utmb=138951332.2.10.1645791453',\n",
    "\t}\n",
    "\tpage_data = requests.get('https://www.fundamentus.com.br/{}'.format(link), headers=headers)\n",
    "\tsource_page_data = BS(page_data.content, 'html.parser')\n",
    "\t# Pega somente as tabelas\n",
    "\ttables = source_page_data.find_all('table')\n",
    "\ttables_data = {}\n",
    "\tfor i in range(0,len(tables)):\n",
    "\t\tlabel = tables[i].find_all('td', attrs={'class':'label'})\n",
    "\t\tdata = tables[i].find_all('td', attrs={'class':'data'})\n",
    "\t\ttables_data.update(dict(zip(list(map(lambda x:x.text.replace('?', ''), label)), list(map(lambda x:x.text.replace('\\n', ''), data)))))\n",
    "\treturn tables_data"
   ]
  },
  {
   "cell_type": "code",
   "execution_count": 10,
   "metadata": {},
   "outputs": [
    {
     "data": {
      "text/plain": [
       "250"
      ]
     },
     "execution_count": 10,
     "metadata": {},
     "output_type": "execute_result"
    }
   ],
   "source": [
    "data_acoes = []\n",
    "for i in links:\n",
    "\tdata_acoes.append(details(i))\n",
    "len(data_acoes)"
   ]
  },
  {
   "cell_type": "code",
   "execution_count": 11,
   "metadata": {},
   "outputs": [],
   "source": [
    "# data_acoes"
   ]
  },
  {
   "cell_type": "code",
   "execution_count": 12,
   "metadata": {},
   "outputs": [],
   "source": [
    "################################################################\n",
    "######################## ANÁLISE DOS DADOS ######################\n",
    "################################################################"
   ]
  },
  {
   "cell_type": "code",
   "execution_count": 13,
   "metadata": {},
   "outputs": [],
   "source": [
    "import plotly.express as px"
   ]
  },
  {
   "cell_type": "code",
   "execution_count": 14,
   "metadata": {},
   "outputs": [
    {
     "data": {
      "text/html": [
       "<div>\n",
       "<style scoped>\n",
       "    .dataframe tbody tr th:only-of-type {\n",
       "        vertical-align: middle;\n",
       "    }\n",
       "\n",
       "    .dataframe tbody tr th {\n",
       "        vertical-align: top;\n",
       "    }\n",
       "\n",
       "    .dataframe thead th {\n",
       "        text-align: right;\n",
       "    }\n",
       "</style>\n",
       "<table border=\"1\" class=\"dataframe\">\n",
       "  <thead>\n",
       "    <tr style=\"text-align: right;\">\n",
       "      <th></th>\n",
       "      <th>Papel</th>\n",
       "      <th>Cotação</th>\n",
       "      <th>Tipo</th>\n",
       "      <th>Data últ cot</th>\n",
       "      <th>Empresa</th>\n",
       "      <th>Min 52 sem</th>\n",
       "      <th>Setor</th>\n",
       "      <th>Max 52 sem</th>\n",
       "      <th>Subsetor</th>\n",
       "      <th>Vol $ méd (2m)</th>\n",
       "      <th>...</th>\n",
       "      <th>Ativo Circulante</th>\n",
       "      <th>Patrim. Líq</th>\n",
       "      <th>Receita Líquida</th>\n",
       "      <th>EBIT</th>\n",
       "      <th>Lucro Líquido</th>\n",
       "      <th>Depósitos</th>\n",
       "      <th>Cart. de Crédito</th>\n",
       "      <th>Result Int Financ</th>\n",
       "      <th>Rec Serviços</th>\n",
       "      <th>2016</th>\n",
       "    </tr>\n",
       "  </thead>\n",
       "  <tbody>\n",
       "    <tr>\n",
       "      <th>0</th>\n",
       "      <td>FESA4</td>\n",
       "      <td>49,00</td>\n",
       "      <td>PN</td>\n",
       "      <td>04/03/2022</td>\n",
       "      <td>FERBASA PN</td>\n",
       "      <td>28,14</td>\n",
       "      <td>Siderurgia e Metalurgia</td>\n",
       "      <td>58,78</td>\n",
       "      <td>Siderurgia</td>\n",
       "      <td>19.541.100</td>\n",
       "      <td>...</td>\n",
       "      <td>1.401.850.000</td>\n",
       "      <td>2.369.220.000</td>\n",
       "      <td>682.141.000</td>\n",
       "      <td>298.149.000</td>\n",
       "      <td>236.524.000</td>\n",
       "      <td>NaN</td>\n",
       "      <td>NaN</td>\n",
       "      <td>NaN</td>\n",
       "      <td>NaN</td>\n",
       "      <td>NaN</td>\n",
       "    </tr>\n",
       "    <tr>\n",
       "      <th>1</th>\n",
       "      <td>MERC4</td>\n",
       "      <td>11,10</td>\n",
       "      <td>PN</td>\n",
       "      <td>04/03/2022</td>\n",
       "      <td>MERCANTIL BRASIL PN</td>\n",
       "      <td>10,01</td>\n",
       "      <td>Intermediários Financeiros</td>\n",
       "      <td>13,64</td>\n",
       "      <td>Soc. Crédito e Financiamento</td>\n",
       "      <td>16.611</td>\n",
       "      <td>...</td>\n",
       "      <td>NaN</td>\n",
       "      <td>257.129.000</td>\n",
       "      <td>NaN</td>\n",
       "      <td>NaN</td>\n",
       "      <td>12.798.000</td>\n",
       "      <td>10.457.000</td>\n",
       "      <td>220.468.000</td>\n",
       "      <td>9.765.000</td>\n",
       "      <td>1.000</td>\n",
       "      <td>NaN</td>\n",
       "    </tr>\n",
       "    <tr>\n",
       "      <th>2</th>\n",
       "      <td>AESB3</td>\n",
       "      <td>11,10</td>\n",
       "      <td>ON NM</td>\n",
       "      <td>04/03/2022</td>\n",
       "      <td>AES BRASIL ON NM</td>\n",
       "      <td>10,24</td>\n",
       "      <td>Energia Elétrica</td>\n",
       "      <td>17,40</td>\n",
       "      <td>Energia Elétrica</td>\n",
       "      <td>10.498.300</td>\n",
       "      <td>...</td>\n",
       "      <td>2.339.880</td>\n",
       "      <td>3.223.080</td>\n",
       "      <td>-1.221.170.000</td>\n",
       "      <td>-87.942.200</td>\n",
       "      <td>-445.298.000</td>\n",
       "      <td>NaN</td>\n",
       "      <td>NaN</td>\n",
       "      <td>NaN</td>\n",
       "      <td>NaN</td>\n",
       "      <td>NaN</td>\n",
       "    </tr>\n",
       "    <tr>\n",
       "      <th>3</th>\n",
       "      <td>GEPA4</td>\n",
       "      <td>30,00</td>\n",
       "      <td>PN</td>\n",
       "      <td>04/03/2022</td>\n",
       "      <td>DUKE ENERGY INT,GERAÇÃO PARANAPANEMA SA PN</td>\n",
       "      <td>29,20</td>\n",
       "      <td>Energia Elétrica</td>\n",
       "      <td>38,49</td>\n",
       "      <td>Energia Elétrica</td>\n",
       "      <td>19.509</td>\n",
       "      <td>...</td>\n",
       "      <td>413.886.000</td>\n",
       "      <td>1.907.660.000</td>\n",
       "      <td>344.668.000</td>\n",
       "      <td>-14.425.000</td>\n",
       "      <td>-4.366.000</td>\n",
       "      <td>NaN</td>\n",
       "      <td>NaN</td>\n",
       "      <td>NaN</td>\n",
       "      <td>NaN</td>\n",
       "      <td>NaN</td>\n",
       "    </tr>\n",
       "    <tr>\n",
       "      <th>4</th>\n",
       "      <td>PATI4</td>\n",
       "      <td>64,99</td>\n",
       "      <td>PN</td>\n",
       "      <td>22/02/2022</td>\n",
       "      <td>PANATLANTICA PN</td>\n",
       "      <td>36,53</td>\n",
       "      <td>Siderurgia e Metalurgia</td>\n",
       "      <td>91,61</td>\n",
       "      <td>Artefatos de Ferro e Aço</td>\n",
       "      <td>2.717</td>\n",
       "      <td>...</td>\n",
       "      <td>1.722.880.000</td>\n",
       "      <td>854.351.000</td>\n",
       "      <td>625.565.000</td>\n",
       "      <td>34.366.000</td>\n",
       "      <td>19.092.000</td>\n",
       "      <td>NaN</td>\n",
       "      <td>NaN</td>\n",
       "      <td>NaN</td>\n",
       "      <td>NaN</td>\n",
       "      <td>NaN</td>\n",
       "    </tr>\n",
       "  </tbody>\n",
       "</table>\n",
       "<p>5 rows × 61 columns</p>\n",
       "</div>"
      ],
      "text/plain": [
       "   Papel Cotação   Tipo Data últ cot  \\\n",
       "0  FESA4   49,00     PN   04/03/2022   \n",
       "1  MERC4   11,10     PN   04/03/2022   \n",
       "2  AESB3   11,10  ON NM   04/03/2022   \n",
       "3  GEPA4   30,00     PN   04/03/2022   \n",
       "4  PATI4   64,99     PN   22/02/2022   \n",
       "\n",
       "                                      Empresa Min 52 sem  \\\n",
       "0                                  FERBASA PN      28,14   \n",
       "1                         MERCANTIL BRASIL PN      10,01   \n",
       "2                            AES BRASIL ON NM      10,24   \n",
       "3  DUKE ENERGY INT,GERAÇÃO PARANAPANEMA SA PN      29,20   \n",
       "4                             PANATLANTICA PN      36,53   \n",
       "\n",
       "                        Setor Max 52 sem                      Subsetor  \\\n",
       "0     Siderurgia e Metalurgia      58,78                    Siderurgia   \n",
       "1  Intermediários Financeiros      13,64  Soc. Crédito e Financiamento   \n",
       "2            Energia Elétrica      17,40              Energia Elétrica   \n",
       "3            Energia Elétrica      38,49              Energia Elétrica   \n",
       "4     Siderurgia e Metalurgia      91,61      Artefatos de Ferro e Aço   \n",
       "\n",
       "  Vol $ méd (2m)  ... Ativo Circulante    Patrim. Líq Receita Líquida  \\\n",
       "0     19.541.100  ...    1.401.850.000  2.369.220.000     682.141.000   \n",
       "1         16.611  ...              NaN    257.129.000             NaN   \n",
       "2     10.498.300  ...        2.339.880      3.223.080  -1.221.170.000   \n",
       "3         19.509  ...      413.886.000  1.907.660.000     344.668.000   \n",
       "4          2.717  ...    1.722.880.000    854.351.000     625.565.000   \n",
       "\n",
       "          EBIT Lucro Líquido   Depósitos Cart. de Crédito Result Int Financ  \\\n",
       "0  298.149.000   236.524.000         NaN              NaN               NaN   \n",
       "1          NaN    12.798.000  10.457.000      220.468.000         9.765.000   \n",
       "2  -87.942.200  -445.298.000         NaN              NaN               NaN   \n",
       "3  -14.425.000    -4.366.000         NaN              NaN               NaN   \n",
       "4   34.366.000    19.092.000         NaN              NaN               NaN   \n",
       "\n",
       "  Rec Serviços 2016  \n",
       "0          NaN  NaN  \n",
       "1        1.000  NaN  \n",
       "2          NaN  NaN  \n",
       "3          NaN  NaN  \n",
       "4          NaN  NaN  \n",
       "\n",
       "[5 rows x 61 columns]"
      ]
     },
     "execution_count": 14,
     "metadata": {},
     "output_type": "execute_result"
    }
   ],
   "source": [
    "df = pd.DataFrame(data_acoes)\n",
    "df.head()"
   ]
  },
  {
   "cell_type": "code",
   "execution_count": 15,
   "metadata": {},
   "outputs": [
    {
     "data": {
      "text/plain": [
       "Index(['Papel', 'Cotação', 'Tipo', 'Data últ cot', 'Empresa', 'Min 52 sem',\n",
       "       'Setor', 'Max 52 sem', 'Subsetor', 'Vol $ méd (2m)', 'Valor de mercado',\n",
       "       'Últ balanço processado', 'Valor da firma', 'Nro. Ações', 'Dia', 'P/L',\n",
       "       'LPA', 'Mês', 'P/VP', 'VPA', '30 dias', 'P/EBIT', 'Marg. Bruta',\n",
       "       '12 meses', 'PSR', 'Marg. EBIT', '2022', 'P/Ativos', 'Marg. Líquida',\n",
       "       '2021', 'P/Cap. Giro', 'EBIT / Ativo', '2020', 'P/Ativ Circ Liq',\n",
       "       'ROIC', '2019', 'Div. Yield', 'ROE', '2018', 'EV / EBITDA',\n",
       "       'Liquidez Corr', '2017', 'EV / EBIT', 'Div Br/ Patrim', '',\n",
       "       'Cres. Rec (5a)', 'Giro Ativos', 'Ativo', 'Dív. Bruta',\n",
       "       'Disponibilidades', 'Dív. Líquida', 'Ativo Circulante', 'Patrim. Líq',\n",
       "       'Receita Líquida', 'EBIT', 'Lucro Líquido', 'Depósitos',\n",
       "       'Cart. de Crédito', 'Result Int Financ', 'Rec Serviços', '2016'],\n",
       "      dtype='object')"
      ]
     },
     "execution_count": 15,
     "metadata": {},
     "output_type": "execute_result"
    }
   ],
   "source": [
    "df.columns"
   ]
  },
  {
   "cell_type": "code",
   "execution_count": 16,
   "metadata": {},
   "outputs": [],
   "source": [
    "# df.info()"
   ]
  },
  {
   "cell_type": "code",
   "execution_count": 17,
   "metadata": {},
   "outputs": [],
   "source": [
    "# Muda o dtype para int e float para que possamos trabalhar com essas colunas, é preciso fazer o mesmo para as demais colunas\n",
    "df['Lucro Líquido'] = df['Lucro Líquido'].str.replace('\\.','',regex=True).astype('int64')\n",
    "df['Cotação']       = df['Cotação'].str.replace(',','.',regex=True).astype('float')"
   ]
  },
  {
   "cell_type": "code",
   "execution_count": 18,
   "metadata": {},
   "outputs": [
    {
     "name": "stdout",
     "output_type": "stream",
     "text": [
      "<class 'pandas.core.frame.DataFrame'>\n",
      "RangeIndex: 250 entries, 0 to 249\n",
      "Data columns (total 61 columns):\n",
      " #   Column                  Non-Null Count  Dtype  \n",
      "---  ------                  --------------  -----  \n",
      " 0   Papel                   250 non-null    object \n",
      " 1   Cotação                 250 non-null    float64\n",
      " 2   Tipo                    250 non-null    object \n",
      " 3   Data últ cot            250 non-null    object \n",
      " 4   Empresa                 250 non-null    object \n",
      " 5   Min 52 sem              250 non-null    object \n",
      " 6   Setor                   250 non-null    object \n",
      " 7   Max 52 sem              250 non-null    object \n",
      " 8   Subsetor                250 non-null    object \n",
      " 9   Vol $ méd (2m)          250 non-null    object \n",
      " 10  Valor de mercado        250 non-null    object \n",
      " 11  Últ balanço processado  250 non-null    object \n",
      " 12  Valor da firma          250 non-null    object \n",
      " 13  Nro. Ações              250 non-null    object \n",
      " 14  Dia                     250 non-null    object \n",
      " 15  P/L                     250 non-null    object \n",
      " 16  LPA                     250 non-null    object \n",
      " 17  Mês                     250 non-null    object \n",
      " 18  P/VP                    250 non-null    object \n",
      " 19  VPA                     250 non-null    object \n",
      " 20  30 dias                 250 non-null    object \n",
      " 21  P/EBIT                  250 non-null    object \n",
      " 22  Marg. Bruta             250 non-null    object \n",
      " 23  12 meses                250 non-null    object \n",
      " 24  PSR                     250 non-null    object \n",
      " 25  Marg. EBIT              250 non-null    object \n",
      " 26  2022                    249 non-null    object \n",
      " 27  P/Ativos                250 non-null    object \n",
      " 28  Marg. Líquida           250 non-null    object \n",
      " 29  2021                    250 non-null    object \n",
      " 30  P/Cap. Giro             250 non-null    object \n",
      " 31  EBIT / Ativo            250 non-null    object \n",
      " 32  2020                    250 non-null    object \n",
      " 33  P/Ativ Circ Liq         250 non-null    object \n",
      " 34  ROIC                    250 non-null    object \n",
      " 35  2019                    250 non-null    object \n",
      " 36  Div. Yield              250 non-null    object \n",
      " 37  ROE                     250 non-null    object \n",
      " 38  2018                    250 non-null    object \n",
      " 39  EV / EBITDA             250 non-null    object \n",
      " 40  Liquidez Corr           250 non-null    object \n",
      " 41  2017                    250 non-null    object \n",
      " 42  EV / EBIT               250 non-null    object \n",
      " 43  Div Br/ Patrim          250 non-null    object \n",
      " 44                          250 non-null    object \n",
      " 45  Cres. Rec (5a)          250 non-null    object \n",
      " 46  Giro Ativos             250 non-null    object \n",
      " 47  Ativo                   250 non-null    object \n",
      " 48  Dív. Bruta              220 non-null    object \n",
      " 49  Disponibilidades        220 non-null    object \n",
      " 50  Dív. Líquida            220 non-null    object \n",
      " 51  Ativo Circulante        220 non-null    object \n",
      " 52  Patrim. Líq             250 non-null    object \n",
      " 53  Receita Líquida         220 non-null    object \n",
      " 54  EBIT                    220 non-null    object \n",
      " 55  Lucro Líquido           250 non-null    int64  \n",
      " 56  Depósitos               30 non-null     object \n",
      " 57  Cart. de Crédito        30 non-null     object \n",
      " 58  Result Int Financ       30 non-null     object \n",
      " 59  Rec Serviços            30 non-null     object \n",
      " 60  2016                    1 non-null      object \n",
      "dtypes: float64(1), int64(1), object(59)\n",
      "memory usage: 119.3+ KB\n"
     ]
    }
   ],
   "source": [
    "df.info()"
   ]
  },
  {
   "cell_type": "code",
   "execution_count": 19,
   "metadata": {},
   "outputs": [
    {
     "data": {
      "text/plain": [
       "ON NM     84\n",
       "ON        72\n",
       "PN        49\n",
       "PN N1     12\n",
       "PNA        8\n",
       "UNT N2     8\n",
       "PN N2      5\n",
       "UNT        3\n",
       "DR3        2\n",
       "PNAS       2\n",
       "PNB        2\n",
       "ON N1      1\n",
       "PNA N1     1\n",
       "ON N2      1\n",
       "Name: Tipo, dtype: int64"
      ]
     },
     "execution_count": 19,
     "metadata": {},
     "output_type": "execute_result"
    }
   ],
   "source": [
    "# Verifica tipos de ações que existem na bolsa e conta as ocorrências delas nos dados\n",
    "df.Tipo.value_counts()"
   ]
  },
  {
   "cell_type": "code",
   "execution_count": 20,
   "metadata": {},
   "outputs": [
    {
     "ename": "ValueError",
     "evalue": "Mime type rendering requires nbformat>=4.2.0 but it is not installed",
     "output_type": "error",
     "traceback": [
      "\u001b[0;31m---------------------------------------------------------------------------\u001b[0m",
      "\u001b[0;31mValueError\u001b[0m                                Traceback (most recent call last)",
      "\u001b[1;32m/Users/deborabastos/Documents/3.DataScience/py_web_scraping/webscraping.ipynb Cell 20'\u001b[0m in \u001b[0;36m<cell line: 5>\u001b[0;34m()\u001b[0m\n\u001b[1;32m      <a href='vscode-notebook-cell:/Users/deborabastos/Documents/3.DataScience/py_web_scraping/webscraping.ipynb#ch0000019?line=2'>3</a>\u001b[0m fig\u001b[39m.\u001b[39mupdate_xaxes(title_text\u001b[39m=\u001b[39m\u001b[39m'\u001b[39m\u001b[39mTipo\u001b[39m\u001b[39m'\u001b[39m)\n\u001b[1;32m      <a href='vscode-notebook-cell:/Users/deborabastos/Documents/3.DataScience/py_web_scraping/webscraping.ipynb#ch0000019?line=3'>4</a>\u001b[0m fig\u001b[39m.\u001b[39mupdate_yaxes(title_text\u001b[39m=\u001b[39m\u001b[39m'\u001b[39m\u001b[39mQuantidade\u001b[39m\u001b[39m'\u001b[39m)\n\u001b[0;32m----> <a href='vscode-notebook-cell:/Users/deborabastos/Documents/3.DataScience/py_web_scraping/webscraping.ipynb#ch0000019?line=4'>5</a>\u001b[0m fig\u001b[39m.\u001b[39;49mshow()\n",
      "File \u001b[0;32m~/Documents/3.DataScience/py_web_scraping/venv/lib/python3.10/site-packages/plotly/basedatatypes.py:3398\u001b[0m, in \u001b[0;36mBaseFigure.show\u001b[0;34m(self, *args, **kwargs)\u001b[0m\n\u001b[1;32m   <a href='file:///Users/deborabastos/Documents/3.DataScience/py_web_scraping/venv/lib/python3.10/site-packages/plotly/basedatatypes.py?line=3364'>3365</a>\u001b[0m \u001b[39m\"\"\"\u001b[39;00m\n\u001b[1;32m   <a href='file:///Users/deborabastos/Documents/3.DataScience/py_web_scraping/venv/lib/python3.10/site-packages/plotly/basedatatypes.py?line=3365'>3366</a>\u001b[0m \u001b[39mShow a figure using either the default renderer(s) or the renderer(s)\u001b[39;00m\n\u001b[1;32m   <a href='file:///Users/deborabastos/Documents/3.DataScience/py_web_scraping/venv/lib/python3.10/site-packages/plotly/basedatatypes.py?line=3366'>3367</a>\u001b[0m \u001b[39mspecified by the renderer argument\u001b[39;00m\n\u001b[0;32m   (...)\u001b[0m\n\u001b[1;32m   <a href='file:///Users/deborabastos/Documents/3.DataScience/py_web_scraping/venv/lib/python3.10/site-packages/plotly/basedatatypes.py?line=3393'>3394</a>\u001b[0m \u001b[39mNone\u001b[39;00m\n\u001b[1;32m   <a href='file:///Users/deborabastos/Documents/3.DataScience/py_web_scraping/venv/lib/python3.10/site-packages/plotly/basedatatypes.py?line=3394'>3395</a>\u001b[0m \u001b[39m\"\"\"\u001b[39;00m\n\u001b[1;32m   <a href='file:///Users/deborabastos/Documents/3.DataScience/py_web_scraping/venv/lib/python3.10/site-packages/plotly/basedatatypes.py?line=3395'>3396</a>\u001b[0m \u001b[39mimport\u001b[39;00m \u001b[39mplotly\u001b[39;00m\u001b[39m.\u001b[39;00m\u001b[39mio\u001b[39;00m \u001b[39mas\u001b[39;00m \u001b[39mpio\u001b[39;00m\n\u001b[0;32m-> <a href='file:///Users/deborabastos/Documents/3.DataScience/py_web_scraping/venv/lib/python3.10/site-packages/plotly/basedatatypes.py?line=3397'>3398</a>\u001b[0m \u001b[39mreturn\u001b[39;00m pio\u001b[39m.\u001b[39;49mshow(\u001b[39mself\u001b[39;49m, \u001b[39m*\u001b[39;49margs, \u001b[39m*\u001b[39;49m\u001b[39m*\u001b[39;49mkwargs)\n",
      "File \u001b[0;32m~/Documents/3.DataScience/py_web_scraping/venv/lib/python3.10/site-packages/plotly/io/_renderers.py:397\u001b[0m, in \u001b[0;36mshow\u001b[0;34m(fig, renderer, validate, **kwargs)\u001b[0m\n\u001b[1;32m    <a href='file:///Users/deborabastos/Documents/3.DataScience/py_web_scraping/venv/lib/python3.10/site-packages/plotly/io/_renderers.py?line=391'>392</a>\u001b[0m         \u001b[39mraise\u001b[39;00m \u001b[39mValueError\u001b[39;00m(\n\u001b[1;32m    <a href='file:///Users/deborabastos/Documents/3.DataScience/py_web_scraping/venv/lib/python3.10/site-packages/plotly/io/_renderers.py?line=392'>393</a>\u001b[0m             \u001b[39m\"\u001b[39m\u001b[39mMime type rendering requires ipython but it is not installed\u001b[39m\u001b[39m\"\u001b[39m\n\u001b[1;32m    <a href='file:///Users/deborabastos/Documents/3.DataScience/py_web_scraping/venv/lib/python3.10/site-packages/plotly/io/_renderers.py?line=393'>394</a>\u001b[0m         )\n\u001b[1;32m    <a href='file:///Users/deborabastos/Documents/3.DataScience/py_web_scraping/venv/lib/python3.10/site-packages/plotly/io/_renderers.py?line=395'>396</a>\u001b[0m     \u001b[39mif\u001b[39;00m \u001b[39mnot\u001b[39;00m nbformat \u001b[39mor\u001b[39;00m LooseVersion(nbformat\u001b[39m.\u001b[39m__version__) \u001b[39m<\u001b[39m LooseVersion(\u001b[39m\"\u001b[39m\u001b[39m4.2.0\u001b[39m\u001b[39m\"\u001b[39m):\n\u001b[0;32m--> <a href='file:///Users/deborabastos/Documents/3.DataScience/py_web_scraping/venv/lib/python3.10/site-packages/plotly/io/_renderers.py?line=396'>397</a>\u001b[0m         \u001b[39mraise\u001b[39;00m \u001b[39mValueError\u001b[39;00m(\n\u001b[1;32m    <a href='file:///Users/deborabastos/Documents/3.DataScience/py_web_scraping/venv/lib/python3.10/site-packages/plotly/io/_renderers.py?line=397'>398</a>\u001b[0m             \u001b[39m\"\u001b[39m\u001b[39mMime type rendering requires nbformat>=4.2.0 but it is not installed\u001b[39m\u001b[39m\"\u001b[39m\n\u001b[1;32m    <a href='file:///Users/deborabastos/Documents/3.DataScience/py_web_scraping/venv/lib/python3.10/site-packages/plotly/io/_renderers.py?line=398'>399</a>\u001b[0m         )\n\u001b[1;32m    <a href='file:///Users/deborabastos/Documents/3.DataScience/py_web_scraping/venv/lib/python3.10/site-packages/plotly/io/_renderers.py?line=400'>401</a>\u001b[0m     ipython_display\u001b[39m.\u001b[39mdisplay(bundle, raw\u001b[39m=\u001b[39m\u001b[39mTrue\u001b[39;00m)\n\u001b[1;32m    <a href='file:///Users/deborabastos/Documents/3.DataScience/py_web_scraping/venv/lib/python3.10/site-packages/plotly/io/_renderers.py?line=402'>403</a>\u001b[0m \u001b[39m# external renderers\u001b[39;00m\n",
      "\u001b[0;31mValueError\u001b[0m: Mime type rendering requires nbformat>=4.2.0 but it is not installed"
     ]
    }
   ],
   "source": [
    "# Gráfico dos tipos de ações e suas frequências\n",
    "fig = px.bar(df.Tipo.value_counts(), title=\"Tipo de ação\")\n",
    "fig.update_xaxes(title_text='Tipo')\n",
    "fig.update_yaxes(title_text='Quantidade')\n",
    "fig.show()"
   ]
  },
  {
   "cell_type": "code",
   "execution_count": null,
   "metadata": {},
   "outputs": [],
   "source": []
  }
 ],
 "metadata": {
  "interpreter": {
   "hash": "2940d9d13438e0beaf6b47c39293b47712b84d65f7537e36f2244e35c7747aed"
  },
  "kernelspec": {
   "display_name": "Python 3.10.2 ('venv': venv)",
   "language": "python",
   "name": "python3"
  },
  "language_info": {
   "codemirror_mode": {
    "name": "ipython",
    "version": 3
   },
   "file_extension": ".py",
   "mimetype": "text/x-python",
   "name": "python",
   "nbconvert_exporter": "python",
   "pygments_lexer": "ipython3",
   "version": "3.10.2"
  },
  "orig_nbformat": 4
 },
 "nbformat": 4,
 "nbformat_minor": 2
}
